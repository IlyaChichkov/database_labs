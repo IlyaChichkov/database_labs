{
 "cells": [
  {
   "cell_type": "code",
   "execution_count": 117,
   "metadata": {},
   "outputs": [],
   "source": [
    "import warnings\n",
    "warnings.filterwarnings('ignore')"
   ]
  },
  {
   "cell_type": "markdown",
   "metadata": {},
   "source": [
    "# Лабораторная работа №5"
   ]
  },
  {
   "cell_type": "markdown",
   "metadata": {},
   "source": [
    "1) Создали новую таблицу field_employers с двумя атрибутами field_id и professor_id для создания связи \"многие ко многим\""
   ]
  },
  {
   "cell_type": "markdown",
   "metadata": {},
   "source": [
    "2) Проверяем значения таблицы field"
   ]
  },
  {
   "cell_type": "code",
   "execution_count": 118,
   "metadata": {},
   "outputs": [],
   "source": [
    "import psycopg2 as ps\n",
    "import pandas as pd\n",
    "\n",
    "conn = ps.connect(host=\"localhost\", port = 5432, database=\"orioks\", user=\"postgres\", password=\"123456\")"
   ]
  },
  {
   "cell_type": "code",
   "execution_count": 119,
   "metadata": {},
   "outputs": [
    {
     "name": "stdout",
     "output_type": "stream",
     "text": [
      "800361, Белозеров, Ефим, Юлианович, 2002-05-23, РТ-4, belozerov.efim@miet.ru\n"
     ]
    },
    {
     "data": {
      "text/plain": [
       "('800361',\n",
       " 'Белозеров',\n",
       " 'Ефим',\n",
       " 'Юлианович',\n",
       " '2002-05-23',\n",
       " 'РТ-4',\n",
       " 'belozerov.efim@miet.ru')"
      ]
     },
     "execution_count": 119,
     "metadata": {},
     "output_type": "execute_result"
    }
   ],
   "source": [
    "from faker import Faker\n",
    "import random\n",
    "from transliterate import translit, get_available_language_codes\n",
    "import datetime\n",
    "\n",
    "# Функция для генерации случайных данных для студента\n",
    "def generate_student_data(group_name):\n",
    "    fake = Faker('ru_RU')\n",
    "    gender = random.randint(0, 1)\n",
    "    student_id = str(random.randint(800000, 999999))  # генерация случайного значения student_id\n",
    "    if gender == 1:\n",
    "        surname = fake.last_name_male()\n",
    "        name = fake.first_name_male()\n",
    "        patronymic = fake.middle_name_male()\n",
    "    else:\n",
    "        surname = fake.last_name_female()\n",
    "        name = fake.first_name_female()\n",
    "        patronymic = fake.middle_name_female()\n",
    "    birthday = fake.date_of_birth(minimum_age=20, maximum_age=21)\n",
    "    students_group_number = group_name\n",
    "    email = translit(f\"{surname.lower()}.{name.lower()}@miet.ru\", 'ru', reversed=True).replace(\"'\", \"\")\n",
    "    print(', '.join([student_id, surname, name, patronymic, birthday.strftime('%Y-%m-%d'), students_group_number, email]))\n",
    "\n",
    "    return student_id, surname, name, patronymic, birthday.strftime('%Y-%m-%d'), students_group_number, email\n",
    "\n",
    "generate_student_data(\"РТ-4\")"
   ]
  },
  {
   "cell_type": "code",
   "execution_count": 120,
   "metadata": {},
   "outputs": [],
   "source": [
    "import random\n",
    "import string\n",
    "import psycopg2\n",
    "from psycopg2 import Error\n",
    "\n",
    "def create_random_students(connection, num_students, group_name):\n",
    "    try:\n",
    "        cursor = connection.cursor()\n",
    "        #cursor.execute(f\"insert into students_group (students_group_number, enrolment_status, structural_unit_number) VALUES ('{group_name}', 'Очная', 1)\")\n",
    "\n",
    "        for _ in range(num_students):\n",
    "            student_id, surname, name, patronymic, birthday, students_group_number, email = generate_student_data(group_name)\n",
    "            insert_query = f\"INSERT INTO student (student_id, surname, name, patronymic, birthday, students_group_number, email) VALUES ({student_id}, '{surname}', '{name}', '{patronymic}', '{birthday}', '{students_group_number}', '{email}')\"\n",
    "            cursor.execute(insert_query)\n",
    "\n",
    "        connection.commit()\n",
    "        print(f\"{num_students} new students created successfully.\")\n",
    "\n",
    "    except (Exception, Error) as error:\n",
    "        print(\"Error while connecting to PostgreSQL:\", error)\n",
    "\n"
   ]
  },
  {
   "cell_type": "code",
   "execution_count": 123,
   "metadata": {},
   "outputs": [
    {
     "name": "stdout",
     "output_type": "stream",
     "text": [
      "852915, Владимиров, Ермолай, Жанович, 2002-11-06, РТ-4, vladimirov.ermolaj@miet.ru\n",
      "813998, Аксенов, Фадей, Гордеевич, 2002-02-26, РТ-4, aksenov.fadej@miet.ru\n",
      "813919, Устинова, Нонна, Болеславовна, 2002-06-27, РТ-4, ustinova.nonna@miet.ru\n",
      "803306, Агафонова, Евпраксия, Натановна, 2002-09-13, РТ-4, agafonova.evpraksija@miet.ru\n",
      "960344, Агафонова, Прасковья, Ивановна, 2003-09-12, РТ-4, agafonova.praskovja@miet.ru\n",
      "934827, Сысоева, Ольга, Оскаровна, 2002-10-31, РТ-4, sysoeva.olga@miet.ru\n",
      "911528, Фокин, Осип, Германович, 2002-12-30, РТ-4, fokin.osip@miet.ru\n",
      "994695, Носов, Аникей, Демьянович, 2001-11-28, РТ-4, nosov.anikej@miet.ru\n",
      "943499, Панова, Кира, Ниловна, 2003-04-03, РТ-4, panova.kira@miet.ru\n",
      "822561, Трофимов, Леонид, Данилович, 2002-02-20, РТ-4, trofimov.leonid@miet.ru\n",
      "949179, Елисеева, Нинель, Романовна, 2003-05-17, РТ-4, eliseeva.ninel@miet.ru\n",
      "952360, Дмитриев, Андрей, Анисимович, 2003-07-29, РТ-4, dmitriev.andrej@miet.ru\n",
      "804822, Пономарев, Эммануил, Иларионович, 2002-03-01, РТ-4, ponomarev.emmanuil@miet.ru\n",
      "888391, Киселев, Панкрат, Аверьянович, 2002-02-10, РТ-4, kiselev.pankrat@miet.ru\n",
      "805662, Ковалев, Эрнест, Гордеевич, 2002-07-31, РТ-4, kovalev.ernest@miet.ru\n",
      "976783, Муравьев, Милован, Аксёнович, 2002-04-01, РТ-4, muravev.milovan@miet.ru\n",
      "872570, Громова, Феврония, Антоновна, 2003-05-04, РТ-4, gromova.fevronija@miet.ru\n",
      "859203, Медведев, Прокл, Харлампович, 2002-03-29, РТ-4, medvedev.prokl@miet.ru\n",
      "898341, Молчанов, Аникей, Федотович, 2003-03-14, РТ-4, molchanov.anikej@miet.ru\n",
      "958914, Кононова, Агата, Ивановна, 2003-01-25, РТ-4, kononova.agata@miet.ru\n",
      "950201, Фомина, Галина, Эльдаровна, 2003-06-04, РТ-4, fomina.galina@miet.ru\n",
      "892002, Нестерова, Алевтина, Кирилловна, 2003-07-18, РТ-4, nesterova.alevtina@miet.ru\n",
      "995603, Селезнева, Фаина, Вадимовна, 2003-03-10, РТ-4, selezneva.faina@miet.ru\n",
      "858891, Евсеева, Виктория, Альбертовна, 2003-07-15, РТ-4, evseeva.viktorija@miet.ru\n",
      "979979, Гаврилов, Сильвестр, Валерианович, 2003-06-24, РТ-4, gavrilov.silvestr@miet.ru\n",
      "25 new students created successfully.\n"
     ]
    }
   ],
   "source": [
    "create_random_students(conn, 25, \"РТ-4\")"
   ]
  },
  {
   "cell_type": "code",
   "execution_count": 122,
   "metadata": {},
   "outputs": [],
   "source": [
    "\n",
    "cursor = conn.cursor()\n",
    "cursor.execute(\"DELETE FROM student WHERE students_group_number LIKE '%РТ%'\")\n",
    "conn.commit()"
   ]
  },
  {
   "cell_type": "markdown",
   "metadata": {},
   "source": [
    "3) Заполняем таблицу field_employers значениями из field"
   ]
  },
  {
   "cell_type": "code",
   "execution_count": 18,
   "metadata": {},
   "outputs": [],
   "source": [
    "cur = conn.cursor()\n",
    "\n",
    "cur.execute(\"SELECT * FROM field_employers;\")\n",
    "if len(cur.fetchall()) < 1:\n",
    "    cur.execute(\"insert into field_employers (field_id, professor_id) select field_id, professor_id from field\")"
   ]
  },
  {
   "cell_type": "markdown",
   "metadata": {},
   "source": [
    "Выводим текущие значения в таблице field_employers"
   ]
  },
  {
   "cell_type": "code",
   "execution_count": 21,
   "metadata": {
    "vscode": {
     "languageId": "sql"
    }
   },
   "outputs": [
    {
     "ename": "SyntaxError",
     "evalue": "illegal target for annotation (4147252753.py, line 1)",
     "output_type": "error",
     "traceback": [
      "\u001b[1;36m  Cell \u001b[1;32mIn[21], line 1\u001b[1;36m\u001b[0m\n\u001b[1;33m    -- Active: 1697198327114@@127.0.0.1@5432@orioks@public\u001b[0m\n\u001b[1;37m    ^\u001b[0m\n\u001b[1;31mSyntaxError\u001b[0m\u001b[1;31m:\u001b[0m illegal target for annotation\n"
     ]
    }
   ],
   "source": [
    "-- Active: 1697198327114@@127.0.0.1@5432@orioks@public\n",
    "SELECT * FROM field_employers LIMIT 15"
   ]
  },
  {
   "cell_type": "markdown",
   "metadata": {},
   "source": [
    "![f_e_data](./assets/f_e_data.png)"
   ]
  },
  {
   "cell_type": "code",
   "execution_count": 20,
   "metadata": {},
   "outputs": [
    {
     "name": "stdout",
     "output_type": "stream",
     "text": [
      "Field Employers\n",
      "Count:  60\n"
     ]
    },
    {
     "data": {
      "text/html": [
       "<div>\n",
       "<style scoped>\n",
       "    .dataframe tbody tr th:only-of-type {\n",
       "        vertical-align: middle;\n",
       "    }\n",
       "\n",
       "    .dataframe tbody tr th {\n",
       "        vertical-align: top;\n",
       "    }\n",
       "\n",
       "    .dataframe thead th {\n",
       "        text-align: right;\n",
       "    }\n",
       "</style>\n",
       "<table border=\"1\" class=\"dataframe\">\n",
       "  <thead>\n",
       "    <tr style=\"text-align: right;\">\n",
       "      <th></th>\n",
       "      <th>field_id</th>\n",
       "      <th>professor_id</th>\n",
       "    </tr>\n",
       "  </thead>\n",
       "  <tbody>\n",
       "    <tr>\n",
       "      <th>0</th>\n",
       "      <td>1fe356aa-5814-ed0d-40b1-4734e13978e9</td>\n",
       "      <td>81001</td>\n",
       "    </tr>\n",
       "    <tr>\n",
       "      <th>1</th>\n",
       "      <td>7ace7bee-0d70-5a1f-1113-2cd60d11dfa4</td>\n",
       "      <td>81002</td>\n",
       "    </tr>\n",
       "    <tr>\n",
       "      <th>2</th>\n",
       "      <td>fdd39e6d-92ae-7e14-64af-0f023fde62d0</td>\n",
       "      <td>81003</td>\n",
       "    </tr>\n",
       "    <tr>\n",
       "      <th>3</th>\n",
       "      <td>bd201d43-4932-4c1d-cd2e-f264ad9c27a5</td>\n",
       "      <td>81004</td>\n",
       "    </tr>\n",
       "    <tr>\n",
       "      <th>4</th>\n",
       "      <td>bb8dfd36-8671-d533-8ce3-5afd9a1dc3ca</td>\n",
       "      <td>81005</td>\n",
       "    </tr>\n",
       "    <tr>\n",
       "      <th>5</th>\n",
       "      <td>47a8229b-9e8a-0473-fd20-21c889da75bf</td>\n",
       "      <td>81006</td>\n",
       "    </tr>\n",
       "    <tr>\n",
       "      <th>6</th>\n",
       "      <td>b075f77e-ed9c-86bf-be5f-98f0ea1ea821</td>\n",
       "      <td>81007</td>\n",
       "    </tr>\n",
       "    <tr>\n",
       "      <th>7</th>\n",
       "      <td>2212a60b-1ad4-3eaf-d84b-111286c7511c</td>\n",
       "      <td>81007</td>\n",
       "    </tr>\n",
       "    <tr>\n",
       "      <th>8</th>\n",
       "      <td>3af6ad6a-2ca3-81a9-1b6d-ce6ab6525a20</td>\n",
       "      <td>81008</td>\n",
       "    </tr>\n",
       "    <tr>\n",
       "      <th>9</th>\n",
       "      <td>c69199ca-fd63-bdc1-3e29-0fc3d67942c7</td>\n",
       "      <td>81009</td>\n",
       "    </tr>\n",
       "    <tr>\n",
       "      <th>10</th>\n",
       "      <td>fdbd356c-9471-56cd-c8bc-321ca29fd636</td>\n",
       "      <td>85001</td>\n",
       "    </tr>\n",
       "    <tr>\n",
       "      <th>11</th>\n",
       "      <td>1fd03030-f773-f763-1802-9e25c01841b0</td>\n",
       "      <td>85002</td>\n",
       "    </tr>\n",
       "    <tr>\n",
       "      <th>12</th>\n",
       "      <td>44e95075-a149-3e26-06ce-ac04ad214d64</td>\n",
       "      <td>85001</td>\n",
       "    </tr>\n",
       "    <tr>\n",
       "      <th>13</th>\n",
       "      <td>b483a0c7-5179-826b-1fee-e0f410e08a06</td>\n",
       "      <td>85001</td>\n",
       "    </tr>\n",
       "    <tr>\n",
       "      <th>14</th>\n",
       "      <td>b4551648-61bc-ecb1-7cec-b761aa35cbd5</td>\n",
       "      <td>85005</td>\n",
       "    </tr>\n",
       "  </tbody>\n",
       "</table>\n",
       "</div>"
      ],
      "text/plain": [
       "                                field_id  professor_id\n",
       "0   1fe356aa-5814-ed0d-40b1-4734e13978e9         81001\n",
       "1   7ace7bee-0d70-5a1f-1113-2cd60d11dfa4         81002\n",
       "2   fdd39e6d-92ae-7e14-64af-0f023fde62d0         81003\n",
       "3   bd201d43-4932-4c1d-cd2e-f264ad9c27a5         81004\n",
       "4   bb8dfd36-8671-d533-8ce3-5afd9a1dc3ca         81005\n",
       "5   47a8229b-9e8a-0473-fd20-21c889da75bf         81006\n",
       "6   b075f77e-ed9c-86bf-be5f-98f0ea1ea821         81007\n",
       "7   2212a60b-1ad4-3eaf-d84b-111286c7511c         81007\n",
       "8   3af6ad6a-2ca3-81a9-1b6d-ce6ab6525a20         81008\n",
       "9   c69199ca-fd63-bdc1-3e29-0fc3d67942c7         81009\n",
       "10  fdbd356c-9471-56cd-c8bc-321ca29fd636         85001\n",
       "11  1fd03030-f773-f763-1802-9e25c01841b0         85002\n",
       "12  44e95075-a149-3e26-06ce-ac04ad214d64         85001\n",
       "13  b483a0c7-5179-826b-1fee-e0f410e08a06         85001\n",
       "14  b4551648-61bc-ecb1-7cec-b761aa35cbd5         85005"
      ]
     },
     "execution_count": 20,
     "metadata": {},
     "output_type": "execute_result"
    }
   ],
   "source": [
    "\n",
    "cur.execute(\"SELECT * FROM field_employers;\")\n",
    "print('Field Employers\\nCount: ',len(cur.fetchall()))\n",
    "fe = pd.read_sql(\"SELECT * FROM field_employers LIMIT 15\", con=conn)\n",
    "fe"
   ]
  },
  {
   "cell_type": "markdown",
   "metadata": {},
   "source": [
    "Добавляем в таблицу professor атрибут телефонный номер"
   ]
  },
  {
   "cell_type": "code",
   "execution_count": null,
   "metadata": {},
   "outputs": [],
   "source": [
    "command = \"alter table professor add column tel_num VARCHAR(20) CHECK\\\n",
    " (tel_num ~ '^(\\+7|\\+7[0-9])\\([0-9]{3}\\)[0-9]{3}-[0-9]{2}-[0-9]{2}$'\\\n",
    "     OR\\\n",
    "         tel_num ~ '^8\\([0-9]{3}\\)[0-9]{3}-[0-9]{2}-[0-9]{2}$');\"\n",
    "\n",
    "cur.execute(command)"
   ]
  },
  {
   "cell_type": "markdown",
   "metadata": {},
   "source": [
    "Выводим первые 15 значений таблицы"
   ]
  },
  {
   "cell_type": "code",
   "execution_count": null,
   "metadata": {},
   "outputs": [
    {
     "data": {
      "text/html": [
       "<div>\n",
       "<style scoped>\n",
       "    .dataframe tbody tr th:only-of-type {\n",
       "        vertical-align: middle;\n",
       "    }\n",
       "\n",
       "    .dataframe tbody tr th {\n",
       "        vertical-align: top;\n",
       "    }\n",
       "\n",
       "    .dataframe thead th {\n",
       "        text-align: right;\n",
       "    }\n",
       "</style>\n",
       "<table border=\"1\" class=\"dataframe\">\n",
       "  <thead>\n",
       "    <tr style=\"text-align: right;\">\n",
       "      <th></th>\n",
       "      <th>professor_id</th>\n",
       "      <th>surname</th>\n",
       "      <th>name</th>\n",
       "      <th>patronymic</th>\n",
       "      <th>degree</th>\n",
       "      <th>academic_title</th>\n",
       "      <th>сurrent_position</th>\n",
       "      <th>experience</th>\n",
       "      <th>salary</th>\n",
       "      <th>tel_num</th>\n",
       "    </tr>\n",
       "  </thead>\n",
       "  <tbody>\n",
       "    <tr>\n",
       "      <th>0</th>\n",
       "      <td>81001</td>\n",
       "      <td>Широков</td>\n",
       "      <td>Василий</td>\n",
       "      <td>Иванович</td>\n",
       "      <td>к.т.н.</td>\n",
       "      <td>доцент</td>\n",
       "      <td>доцент</td>\n",
       "      <td>25</td>\n",
       "      <td>98 000,00 ₽</td>\n",
       "      <td>None</td>\n",
       "    </tr>\n",
       "    <tr>\n",
       "      <th>1</th>\n",
       "      <td>81002</td>\n",
       "      <td>Семенов</td>\n",
       "      <td>Андрей</td>\n",
       "      <td>Сергеевич</td>\n",
       "      <td>к.т.н.</td>\n",
       "      <td>профессор</td>\n",
       "      <td>профессор</td>\n",
       "      <td>25</td>\n",
       "      <td>210 000,00 ₽</td>\n",
       "      <td>None</td>\n",
       "    </tr>\n",
       "    <tr>\n",
       "      <th>2</th>\n",
       "      <td>81003</td>\n",
       "      <td>Филатов</td>\n",
       "      <td>Илья</td>\n",
       "      <td>Иванович</td>\n",
       "      <td>к.т.н.</td>\n",
       "      <td>доцент</td>\n",
       "      <td>доцент</td>\n",
       "      <td>13</td>\n",
       "      <td>85 000,00 ₽</td>\n",
       "      <td>None</td>\n",
       "    </tr>\n",
       "    <tr>\n",
       "      <th>3</th>\n",
       "      <td>81004</td>\n",
       "      <td>Ермаков</td>\n",
       "      <td>Виктор</td>\n",
       "      <td>Денисович</td>\n",
       "      <td>None</td>\n",
       "      <td>None</td>\n",
       "      <td>ассистент</td>\n",
       "      <td>1</td>\n",
       "      <td>12 000,00 ₽</td>\n",
       "      <td>None</td>\n",
       "    </tr>\n",
       "    <tr>\n",
       "      <th>4</th>\n",
       "      <td>81005</td>\n",
       "      <td>Марков</td>\n",
       "      <td>Виктор</td>\n",
       "      <td>Дмитриевич</td>\n",
       "      <td>None</td>\n",
       "      <td>None</td>\n",
       "      <td>старший преподаватель</td>\n",
       "      <td>5</td>\n",
       "      <td>25 000,00 ₽</td>\n",
       "      <td>None</td>\n",
       "    </tr>\n",
       "    <tr>\n",
       "      <th>5</th>\n",
       "      <td>81006</td>\n",
       "      <td>Воронов</td>\n",
       "      <td>Николай</td>\n",
       "      <td>Михайлович</td>\n",
       "      <td>к.т.н.</td>\n",
       "      <td>доцент</td>\n",
       "      <td>доцент</td>\n",
       "      <td>25</td>\n",
       "      <td>98 000,00 ₽</td>\n",
       "      <td>None</td>\n",
       "    </tr>\n",
       "    <tr>\n",
       "      <th>6</th>\n",
       "      <td>81007</td>\n",
       "      <td>Хисамов</td>\n",
       "      <td>Василь</td>\n",
       "      <td>Тагирович</td>\n",
       "      <td>None</td>\n",
       "      <td>None</td>\n",
       "      <td>старший преподаватель</td>\n",
       "      <td>5</td>\n",
       "      <td>25 000,00 ₽</td>\n",
       "      <td>None</td>\n",
       "    </tr>\n",
       "    <tr>\n",
       "      <th>7</th>\n",
       "      <td>81008</td>\n",
       "      <td>Козин</td>\n",
       "      <td>Николай</td>\n",
       "      <td>Дмитриевич</td>\n",
       "      <td>None</td>\n",
       "      <td>None</td>\n",
       "      <td>ассистент</td>\n",
       "      <td>1</td>\n",
       "      <td>12 000,00 ₽</td>\n",
       "      <td>None</td>\n",
       "    </tr>\n",
       "    <tr>\n",
       "      <th>8</th>\n",
       "      <td>81009</td>\n",
       "      <td>Петров</td>\n",
       "      <td>Александр</td>\n",
       "      <td>Евгеньевич</td>\n",
       "      <td>None</td>\n",
       "      <td>None</td>\n",
       "      <td>старший преподаватель</td>\n",
       "      <td>10</td>\n",
       "      <td>55 000,00 ₽</td>\n",
       "      <td>None</td>\n",
       "    </tr>\n",
       "    <tr>\n",
       "      <th>9</th>\n",
       "      <td>85001</td>\n",
       "      <td>Березина</td>\n",
       "      <td>Наталия</td>\n",
       "      <td>Владимировна</td>\n",
       "      <td>д.т.н.</td>\n",
       "      <td>профессор</td>\n",
       "      <td>профессор</td>\n",
       "      <td>24</td>\n",
       "      <td>64 000,00 ₽</td>\n",
       "      <td>None</td>\n",
       "    </tr>\n",
       "    <tr>\n",
       "      <th>10</th>\n",
       "      <td>85002</td>\n",
       "      <td>Орлов</td>\n",
       "      <td>Даниил</td>\n",
       "      <td>Павлович</td>\n",
       "      <td>к.т.н.</td>\n",
       "      <td>профессор</td>\n",
       "      <td>профессор</td>\n",
       "      <td>25</td>\n",
       "      <td>210 000,00 ₽</td>\n",
       "      <td>None</td>\n",
       "    </tr>\n",
       "    <tr>\n",
       "      <th>11</th>\n",
       "      <td>85003</td>\n",
       "      <td>Овсянников</td>\n",
       "      <td>Даниил</td>\n",
       "      <td>Викторович</td>\n",
       "      <td>к.т.н.</td>\n",
       "      <td>доцент</td>\n",
       "      <td>доцент</td>\n",
       "      <td>13</td>\n",
       "      <td>85 000,00 ₽</td>\n",
       "      <td>None</td>\n",
       "    </tr>\n",
       "    <tr>\n",
       "      <th>12</th>\n",
       "      <td>85004</td>\n",
       "      <td>Плотникова</td>\n",
       "      <td>Мария</td>\n",
       "      <td>Марковна</td>\n",
       "      <td>None</td>\n",
       "      <td>None</td>\n",
       "      <td>ассистент</td>\n",
       "      <td>1</td>\n",
       "      <td>12 000,00 ₽</td>\n",
       "      <td>None</td>\n",
       "    </tr>\n",
       "    <tr>\n",
       "      <th>13</th>\n",
       "      <td>85005</td>\n",
       "      <td>Петрова</td>\n",
       "      <td>Елена</td>\n",
       "      <td>Олеговна</td>\n",
       "      <td>None</td>\n",
       "      <td>None</td>\n",
       "      <td>старший преподаватель</td>\n",
       "      <td>5</td>\n",
       "      <td>25 000,00 ₽</td>\n",
       "      <td>None</td>\n",
       "    </tr>\n",
       "    <tr>\n",
       "      <th>14</th>\n",
       "      <td>82001</td>\n",
       "      <td>Воронов</td>\n",
       "      <td>Артём</td>\n",
       "      <td>Ильич</td>\n",
       "      <td>к.т.н.</td>\n",
       "      <td>доцент</td>\n",
       "      <td>доцент</td>\n",
       "      <td>25</td>\n",
       "      <td>98 000,00 ₽</td>\n",
       "      <td>None</td>\n",
       "    </tr>\n",
       "  </tbody>\n",
       "</table>\n",
       "</div>"
      ],
      "text/plain": [
       "    professor_id     surname       name    patronymic  degree academic_title  \\\n",
       "0          81001     Широков    Василий      Иванович  к.т.н.         доцент   \n",
       "1          81002     Семенов     Андрей     Сергеевич  к.т.н.      профессор   \n",
       "2          81003     Филатов       Илья      Иванович  к.т.н.         доцент   \n",
       "3          81004     Ермаков     Виктор     Денисович    None           None   \n",
       "4          81005      Марков     Виктор    Дмитриевич    None           None   \n",
       "5          81006     Воронов    Николай    Михайлович  к.т.н.         доцент   \n",
       "6          81007     Хисамов     Василь     Тагирович    None           None   \n",
       "7          81008       Козин    Николай    Дмитриевич    None           None   \n",
       "8          81009      Петров  Александр    Евгеньевич    None           None   \n",
       "9          85001    Березина    Наталия  Владимировна  д.т.н.      профессор   \n",
       "10         85002       Орлов     Даниил      Павлович  к.т.н.      профессор   \n",
       "11         85003  Овсянников     Даниил    Викторович  к.т.н.         доцент   \n",
       "12         85004  Плотникова      Мария      Марковна    None           None   \n",
       "13         85005     Петрова      Елена      Олеговна    None           None   \n",
       "14         82001     Воронов      Артём         Ильич  к.т.н.         доцент   \n",
       "\n",
       "         сurrent_position  experience        salary tel_num  \n",
       "0                  доцент          25   98 000,00 ₽    None  \n",
       "1               профессор          25  210 000,00 ₽    None  \n",
       "2                  доцент          13   85 000,00 ₽    None  \n",
       "3               ассистент           1   12 000,00 ₽    None  \n",
       "4   старший преподаватель           5   25 000,00 ₽    None  \n",
       "5                  доцент          25   98 000,00 ₽    None  \n",
       "6   старший преподаватель           5   25 000,00 ₽    None  \n",
       "7               ассистент           1   12 000,00 ₽    None  \n",
       "8   старший преподаватель          10   55 000,00 ₽    None  \n",
       "9               профессор          24   64 000,00 ₽    None  \n",
       "10              профессор          25  210 000,00 ₽    None  \n",
       "11                 доцент          13   85 000,00 ₽    None  \n",
       "12              ассистент           1   12 000,00 ₽    None  \n",
       "13  старший преподаватель           5   25 000,00 ₽    None  \n",
       "14                 доцент          25   98 000,00 ₽    None  "
      ]
     },
     "execution_count": 18,
     "metadata": {},
     "output_type": "execute_result"
    }
   ],
   "source": [
    "pf = pd.read_sql(\"SELECT * FROM professor LIMIT 15\", con=conn)\n",
    "pf"
   ]
  },
  {
   "cell_type": "code",
   "execution_count": null,
   "metadata": {},
   "outputs": [
    {
     "data": {
      "text/html": [
       "<div>\n",
       "<style scoped>\n",
       "    .dataframe tbody tr th:only-of-type {\n",
       "        vertical-align: middle;\n",
       "    }\n",
       "\n",
       "    .dataframe tbody tr th {\n",
       "        vertical-align: top;\n",
       "    }\n",
       "\n",
       "    .dataframe thead th {\n",
       "        text-align: right;\n",
       "    }\n",
       "</style>\n",
       "<table border=\"1\" class=\"dataframe\">\n",
       "  <thead>\n",
       "    <tr style=\"text-align: right;\">\n",
       "      <th></th>\n",
       "      <th>students_group_number</th>\n",
       "      <th>enrolment_status</th>\n",
       "      <th>structural_unit_number</th>\n",
       "      <th>class_leader_id</th>\n",
       "    </tr>\n",
       "  </thead>\n",
       "  <tbody>\n",
       "    <tr>\n",
       "      <th>0</th>\n",
       "      <td>ИВТ-41</td>\n",
       "      <td>Очная</td>\n",
       "      <td>1</td>\n",
       "      <td>None</td>\n",
       "    </tr>\n",
       "    <tr>\n",
       "      <th>1</th>\n",
       "      <td>ИВТ-42</td>\n",
       "      <td>Очная</td>\n",
       "      <td>1</td>\n",
       "      <td>None</td>\n",
       "    </tr>\n",
       "    <tr>\n",
       "      <th>2</th>\n",
       "      <td>ИВТ-43</td>\n",
       "      <td>Очная</td>\n",
       "      <td>1</td>\n",
       "      <td>None</td>\n",
       "    </tr>\n",
       "    <tr>\n",
       "      <th>3</th>\n",
       "      <td>ИВТ-21В</td>\n",
       "      <td>Заочная</td>\n",
       "      <td>1</td>\n",
       "      <td>None</td>\n",
       "    </tr>\n",
       "    <tr>\n",
       "      <th>4</th>\n",
       "      <td>ИБ-21</td>\n",
       "      <td>Очная</td>\n",
       "      <td>3</td>\n",
       "      <td>None</td>\n",
       "    </tr>\n",
       "    <tr>\n",
       "      <th>5</th>\n",
       "      <td>ИТД-31</td>\n",
       "      <td>Очная</td>\n",
       "      <td>4</td>\n",
       "      <td>None</td>\n",
       "    </tr>\n",
       "    <tr>\n",
       "      <th>6</th>\n",
       "      <td>ИТД-32</td>\n",
       "      <td>Очная</td>\n",
       "      <td>4</td>\n",
       "      <td>None</td>\n",
       "    </tr>\n",
       "    <tr>\n",
       "      <th>7</th>\n",
       "      <td>ИТД-33</td>\n",
       "      <td>Очная</td>\n",
       "      <td>4</td>\n",
       "      <td>None</td>\n",
       "    </tr>\n",
       "  </tbody>\n",
       "</table>\n",
       "</div>"
      ],
      "text/plain": [
       "  students_group_number enrolment_status  structural_unit_number  \\\n",
       "0                ИВТ-41            Очная                       1   \n",
       "1                ИВТ-42            Очная                       1   \n",
       "2                ИВТ-43            Очная                       1   \n",
       "3               ИВТ-21В          Заочная                       1   \n",
       "4                 ИБ-21            Очная                       3   \n",
       "5                ИТД-31            Очная                       4   \n",
       "6                ИТД-32            Очная                       4   \n",
       "7                ИТД-33            Очная                       4   \n",
       "\n",
       "  class_leader_id  \n",
       "0            None  \n",
       "1            None  \n",
       "2            None  \n",
       "3            None  \n",
       "4            None  \n",
       "5            None  \n",
       "6            None  \n",
       "7            None  "
      ]
     },
     "execution_count": 19,
     "metadata": {},
     "output_type": "execute_result"
    }
   ],
   "source": [
    "command = \"alter table students_group add column class_leader_id integer;\"\n",
    "\n",
    "cur.execute(command)\n",
    "\n",
    "sg = pd.read_sql(\"SELECT * FROM students_group LIMIT 15\", con=conn)\n",
    "sg"
   ]
  },
  {
   "cell_type": "markdown",
   "metadata": {},
   "source": [
    "Добавляю проверку для ID старосты группы"
   ]
  },
  {
   "cell_type": "code",
   "execution_count": null,
   "metadata": {
    "vscode": {
     "languageId": "sql"
    }
   },
   "outputs": [],
   "source": [
    "'''\n",
    "ALTER TABLE students_group\n",
    "    ADD CONSTRAINT check_group_leader\n",
    "    FOREIGN KEY (class_leader_id)\n",
    "    REFERENCES student (student_id);\n",
    "'''"
   ]
  },
  {
   "cell_type": "markdown",
   "metadata": {},
   "source": [
    "Новые таблицы для варианта \"Студенческий офиса\""
   ]
  },
  {
   "cell_type": "markdown",
   "metadata": {},
   "source": [
    "![](./assets/my_tables.png)"
   ]
  },
  {
   "cell_type": "markdown",
   "metadata": {},
   "source": [
    "![db_design](./assets/db_design.png)"
   ]
  },
  {
   "cell_type": "markdown",
   "metadata": {},
   "source": [
    "Расписание занятий"
   ]
  },
  {
   "cell_type": "code",
   "execution_count": null,
   "metadata": {
    "vscode": {
     "languageId": "sql"
    }
   },
   "outputs": [
    {
     "data": {
      "text/plain": [
       "'\\nCREATE TABLE class_schedule (\\n    schedule_id SERIAL PRIMARY KEY,\\n    group_id INT REFERENCES student_groups(group_id),\\n    subject_id INT REFERENCES subjects(subject_id),\\n    day_of_week VARCHAR(10),\\n    start_time TIME,\\n    end_time TIME,\\n    teacher_id INT REFERENCES teachers(teacher_id),\\n    classroom VARCHAR(50)\\n);\\n'"
      ]
     },
     "execution_count": 20,
     "metadata": {},
     "output_type": "execute_result"
    }
   ],
   "source": [
    "'''\n",
    "CREATE TABLE class_schedule (\n",
    "    schedule_id SERIAL PRIMARY KEY,\n",
    "    group_id INT REFERENCES student_groups(group_id),\n",
    "    subject_id INT REFERENCES subjects(subject_id),\n",
    "    day_of_week VARCHAR(10),\n",
    "    start_time TIME,\n",
    "    end_time TIME,\n",
    "    teacher_id INT REFERENCES teachers(teacher_id),\n",
    "    classroom VARCHAR(50)\n",
    ");\n",
    "'''"
   ]
  },
  {
   "cell_type": "markdown",
   "metadata": {},
   "source": [
    "Заявки на пересдачу"
   ]
  },
  {
   "cell_type": "code",
   "execution_count": null,
   "metadata": {
    "vscode": {
     "languageId": "sql"
    }
   },
   "outputs": [
    {
     "data": {
      "text/plain": [
       "'\\nCREATE TABLE exam_retake_requests (\\n    request_id SERIAL PRIMARY KEY,\\n    student_id INT REFERENCES students(student_id),\\n    subject_id INT REFERENCES subjects(subject_id),\\n    reason VARCHAR(255),\\n    status VARCHAR(20), -- In progress, Approved, Rejected\\n    request_date DATE\\n);\\n'"
      ]
     },
     "execution_count": 21,
     "metadata": {},
     "output_type": "execute_result"
    }
   ],
   "source": [
    "'''\n",
    "CREATE TABLE exam_retake_requests (\n",
    "    request_id SERIAL PRIMARY KEY,\n",
    "    student_id INT REFERENCES students(student_id),\n",
    "    subject_id INT REFERENCES subjects(subject_id),\n",
    "    reason VARCHAR(255),\n",
    "    status VARCHAR(20), -- In progress, Approved, Rejected\n",
    "    request_date DATE\n",
    ");\n",
    "'''"
   ]
  },
  {
   "cell_type": "markdown",
   "metadata": {},
   "source": [
    "Академический календарь"
   ]
  },
  {
   "cell_type": "code",
   "execution_count": null,
   "metadata": {
    "vscode": {
     "languageId": "sql"
    }
   },
   "outputs": [
    {
     "data": {
      "text/plain": [
       "'\\nCREATE TABLE academic_calendar (\\n    event_id SERIAL PRIMARY KEY,\\n    event_name VARCHAR(100),\\n    start_date DATE,\\n    end_date DATE,\\n    event_type VARCHAR(50) -- Semester, Holidays, Exams, etc.\\n);\\n'"
      ]
     },
     "execution_count": 22,
     "metadata": {},
     "output_type": "execute_result"
    }
   ],
   "source": [
    "'''\n",
    "CREATE TABLE academic_calendar (\n",
    "    event_id SERIAL PRIMARY KEY,\n",
    "    event_name VARCHAR(100),\n",
    "    start_date DATE,\n",
    "    end_date DATE,\n",
    "    event_type VARCHAR(50) -- Semester, Holidays, Exams, etc.\n",
    ");\n",
    "'''"
   ]
  }
 ],
 "metadata": {
  "kernelspec": {
   "display_name": "Python 3",
   "language": "python",
   "name": "python3"
  },
  "language_info": {
   "codemirror_mode": {
    "name": "ipython",
    "version": 3
   },
   "file_extension": ".py",
   "mimetype": "text/x-python",
   "name": "python",
   "nbconvert_exporter": "python",
   "pygments_lexer": "ipython3",
   "version": "3.11.4"
  }
 },
 "nbformat": 4,
 "nbformat_minor": 2
}
