{
 "cells": [
  {
   "cell_type": "code",
   "execution_count": 2,
   "metadata": {},
   "outputs": [],
   "source": [
    "import warnings\n",
    "warnings.filterwarnings('ignore')"
   ]
  },
  {
   "cell_type": "markdown",
   "metadata": {},
   "source": [
    "# Лабораторная работа №5"
   ]
  },
  {
   "cell_type": "markdown",
   "metadata": {},
   "source": [
    "1) Создали новую таблицу field_employers с двумя атрибутами field_id и professor_id для создания связи \"многие ко многим\""
   ]
  },
  {
   "cell_type": "markdown",
   "metadata": {},
   "source": [
    "2) Проверяем значения таблицы field"
   ]
  },
  {
   "cell_type": "code",
   "execution_count": 3,
   "metadata": {},
   "outputs": [],
   "source": [
    "import psycopg2 as ps\n",
    "import pandas as pd\n",
    "\n",
    "conn = ps.connect(host=\"localhost\", port = 5432, database=\"orioks\", user=\"postgres\", password=\"123456\")"
   ]
  },
  {
   "cell_type": "code",
   "execution_count": 4,
   "metadata": {},
   "outputs": [
    {
     "name": "stdout",
     "output_type": "stream",
     "text": [
      "762160, Галкина, Лукия, Святославовна, 2003-09-05, РТ-4, galkina.lukija@miet.ru\n"
     ]
    },
    {
     "data": {
      "text/plain": [
       "('762160',\n",
       " 'Галкина',\n",
       " 'Лукия',\n",
       " 'Святославовна',\n",
       " '2003-09-05',\n",
       " 'РТ-4',\n",
       " 'galkina.lukija@miet.ru')"
      ]
     },
     "execution_count": 4,
     "metadata": {},
     "output_type": "execute_result"
    }
   ],
   "source": [
    "from faker import Faker\n",
    "import random\n",
    "from transliterate import translit, get_available_language_codes\n",
    "import datetime\n",
    "\n",
    "# Функция для генерации случайных данных для студента\n",
    "def generate_student_data(group_name):\n",
    "    fake = Faker('ru_RU')\n",
    "    gender = random.randint(0, 1)\n",
    "    student_id = str(random.randint(700000, 800000))  # генерация случайного значения student_id\n",
    "    if gender == 1:\n",
    "        surname = fake.last_name_male()\n",
    "        name = fake.first_name_male()\n",
    "        patronymic = fake.middle_name_male()\n",
    "    else:\n",
    "        surname = fake.last_name_female()\n",
    "        name = fake.first_name_female()\n",
    "        patronymic = fake.middle_name_female()\n",
    "    birthday = fake.date_of_birth(minimum_age=20, maximum_age=21)\n",
    "    students_group_number = group_name\n",
    "    email = translit(f\"{surname.lower()}.{name.lower()}@miet.ru\", 'ru', reversed=True).replace(\"'\", \"\")\n",
    "    print(', '.join([student_id, surname, name, patronymic, birthday.strftime('%Y-%m-%d'), students_group_number, email]))\n",
    "\n",
    "    return student_id, surname, name, patronymic, birthday.strftime('%Y-%m-%d'), students_group_number, email\n",
    "\n",
    "generate_student_data(\"РТ-4\")"
   ]
  },
  {
   "cell_type": "code",
   "execution_count": 5,
   "metadata": {},
   "outputs": [],
   "source": [
    "import random\n",
    "import string\n",
    "import psycopg2\n",
    "from psycopg2 import Error\n",
    "\n",
    "def create_random_students(connection, num_students, group_name):\n",
    "    try:\n",
    "        cursor = connection.cursor()\n",
    "        #cursor.execute(f\"insert into students_group (students_group_number, enrolment_status, structural_unit_number) VALUES ('{group_name}', 'Очная', 1)\")\n",
    "\n",
    "        for _ in range(num_students):\n",
    "            student_id, surname, name, patronymic, birthday, students_group_number, email = generate_student_data(group_name)\n",
    "            insert_query = f\"INSERT INTO student (student_id, surname, name, patronymic, birthday, students_group_number, email) VALUES ({student_id}, '{surname}', '{name}', '{patronymic}', '{birthday}', '{students_group_number}', '{email}')\"\n",
    "            cursor.execute(insert_query)\n",
    "            \n",
    "            insert_query = f\"insert into Student_id VALUES ('{student_id}', '31.08.2021', '31.08.2025')\"\n",
    "            cursor.execute(insert_query)\n",
    "\n",
    "        connection.commit()\n",
    "        print(f\"{num_students} new students created successfully.\")\n",
    "\n",
    "    except (Exception, Error) as error:\n",
    "        print(\"Error while connecting to PostgreSQL:\", error)\n",
    "\n"
   ]
  },
  {
   "cell_type": "code",
   "execution_count": 8,
   "metadata": {},
   "outputs": [
    {
     "name": "stdout",
     "output_type": "stream",
     "text": [
      "724421, Андреева, Синклитикия, Петровна, 2003-02-03, РТ-4, andreeva.sinklitikija@miet.ru\n",
      "735062, Потапова, Анжела, Ждановна, 2003-01-28, РТ-4, potapova.anzhela@miet.ru\n",
      "772993, Никонова, Мария, Леонидовна, 2003-10-13, РТ-4, nikonova.marija@miet.ru\n",
      "773975, Лихачев, Мартын, Бенедиктович, 2002-03-10, РТ-4, lihachev.martyn@miet.ru\n",
      "713825, Петров, Фадей, Зиновьевич, 2003-06-27, РТ-4, petrov.fadej@miet.ru\n",
      "704535, Егоров, Владислав, Анатольевич, 2002-02-28, РТ-4, egorov.vladislav@miet.ru\n",
      "748176, Комаров, Юлий, Антонович, 2002-07-10, РТ-4, komarov.julij@miet.ru\n",
      "719408, Алексеева, Элеонора, Алексеевна, 2002-06-05, РТ-4, alekseeva.eleonora@miet.ru\n",
      "771252, Виноградов, Эрнст, Дорофеевич, 2003-01-20, РТ-4, vinogradov.ernst@miet.ru\n",
      "782834, Рожкова, Зоя, Матвеевна, 2002-04-02, РТ-4, rozhkova.zoja@miet.ru\n",
      "704199, Антонов, Герман, Алексеевич, 2002-10-28, РТ-4, antonov.german@miet.ru\n",
      "744699, Кириллов, Любим, Фёдорович, 2002-01-11, РТ-4, kirillov.ljubim@miet.ru\n",
      "784061, Кулакова, Регина, Кузьминична, 2003-06-28, РТ-4, kulakova.regina@miet.ru\n",
      "785041, Юдин, Вацлав, Гордеевич, 2003-06-26, РТ-4, judin.vatslav@miet.ru\n",
      "718950, Лаврентьев, Нестор, Андреевич, 2002-03-02, РТ-4, lavrentev.nestor@miet.ru\n",
      "784710, Горбачева, Вероника, Робертовна, 2002-09-16, РТ-4, gorbacheva.veronika@miet.ru\n",
      "719896, Пахомов, Любосмысл, Алексеевич, 2002-10-03, РТ-4, pahomov.ljubosmysl@miet.ru\n",
      "798313, Воронцова, Валентина, Григорьевна, 2003-01-15, РТ-4, vorontsova.valentina@miet.ru\n",
      "756263, Суханов, Александр, Егорович, 2002-04-12, РТ-4, suhanov.aleksandr@miet.ru\n",
      "767425, Авдеев, Август, Изотович, 2002-10-29, РТ-4, avdeev.avgust@miet.ru\n",
      "751821, Третьякова, Любовь, Андреевна, 2003-05-01, РТ-4, tretjakova.ljubov@miet.ru\n",
      "704570, Тихонова, Василиса, Георгиевна, 2003-03-24, РТ-4, tihonova.vasilisa@miet.ru\n",
      "728688, Воробьев, Семен, Игнатьевич, 2002-12-09, РТ-4, vorobev.semen@miet.ru\n",
      "778484, Галкин, Марк, Ермолаевич, 2002-05-13, РТ-4, galkin.mark@miet.ru\n",
      "723820, Филатов, Мирон, Ильич, 2003-07-01, РТ-4, filatov.miron@miet.ru\n",
      "25 new students created successfully.\n"
     ]
    }
   ],
   "source": [
    "create_random_students(conn, 25, \"РТ-4\")"
   ]
  },
  {
   "cell_type": "code",
   "execution_count": 7,
   "metadata": {},
   "outputs": [],
   "source": [
    "\n",
    "cursor = conn.cursor()\n",
    "cursor.execute(\"DELETE FROM student WHERE students_group_number LIKE '%РТ%'\")\n",
    "conn.commit()"
   ]
  },
  {
   "cell_type": "markdown",
   "metadata": {},
   "source": [
    "3) Заполняем таблицу field_employers значениями из field"
   ]
  },
  {
   "cell_type": "code",
   "execution_count": 18,
   "metadata": {},
   "outputs": [],
   "source": [
    "cur = conn.cursor()\n",
    "\n",
    "cur.execute(\"SELECT * FROM field_employers;\")\n",
    "if len(cur.fetchall()) < 1:\n",
    "    cur.execute(\"insert into field_employers (field_id, professor_id) select field_id, professor_id from field\")"
   ]
  },
  {
   "cell_type": "markdown",
   "metadata": {},
   "source": [
    "## Задание 2\n",
    "\n",
    "Запустить программу Симулятор ОРИОКС, убедиться в её работе с новыми студентами. "
   ]
  },
  {
   "cell_type": "markdown",
   "metadata": {},
   "source": [
    "TODO"
   ]
  },
  {
   "cell_type": "markdown",
   "metadata": {},
   "source": [
    "## Задание 3\n",
    "\n",
    "Переведите всех учащихся 3-го курса на 4-й. Изменить номер группы."
   ]
  },
  {
   "cell_type": "markdown",
   "metadata": {},
   "source": [
    "TODO"
   ]
  },
  {
   "cell_type": "markdown",
   "metadata": {},
   "source": [
    "## Задание 4\n",
    "\n",
    "Создать временную таблицу, содержащую 10 лучших студентов 3 курса МПСУ, без троек. Сортировка по убыванию среднего балла. ФИО, номер студ. билета, ср. балл"
   ]
  },
  {
   "cell_type": "markdown",
   "metadata": {},
   "source": [
    "TODO"
   ]
  },
  {
   "cell_type": "markdown",
   "metadata": {},
   "source": [
    "## Задание 5\n",
    "\n",
    "Добавить 10 осмысленных значений в таблицу"
   ]
  },
  {
   "cell_type": "markdown",
   "metadata": {},
   "source": [
    "TODO"
   ]
  }
 ],
 "metadata": {
  "kernelspec": {
   "display_name": "Python 3",
   "language": "python",
   "name": "python3"
  },
  "language_info": {
   "codemirror_mode": {
    "name": "ipython",
    "version": 3
   },
   "file_extension": ".py",
   "mimetype": "text/x-python",
   "name": "python",
   "nbconvert_exporter": "python",
   "pygments_lexer": "ipython3",
   "version": "3.11.4"
  }
 },
 "nbformat": 4,
 "nbformat_minor": 2
}
