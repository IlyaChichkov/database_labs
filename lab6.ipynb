{
 "cells": [
  {
   "cell_type": "code",
   "execution_count": 1,
   "metadata": {},
   "outputs": [],
   "source": [
    "import psycopg2 as ps\n",
    "import pandas as pd\n",
    "\n",
    "conn = ps.connect(host=\"localhost\", port = 5432, database=\"orioks\", user=\"postgres\", password=\"123456\")"
   ]
  },
  {
   "cell_type": "code",
   "execution_count": 2,
   "metadata": {},
   "outputs": [],
   "source": [
    "def make_request(query):\n",
    "    cursor = conn.cursor()\n",
    "    cursor.execute(query)\n",
    "    conn.commit()\n",
    "    cursor.close()\n"
   ]
  },
  {
   "cell_type": "code",
   "execution_count": 6,
   "metadata": {},
   "outputs": [],
   "source": [
    "def make_request_and_fetch(query):\n",
    "    cursor = conn.cursor()\n",
    "    cursor.execute(query)\n",
    "    analysis_results = cursor.fetchall()\n",
    "    for row in analysis_results:\n",
    "        print(row[0])\n",
    "    cursor.close()"
   ]
  },
  {
   "cell_type": "markdown",
   "metadata": {},
   "source": [
    "## Задание 1"
   ]
  },
  {
   "cell_type": "code",
   "execution_count": 3,
   "metadata": {},
   "outputs": [],
   "source": [
    "\n",
    "query = 'create table test(id serial primary key, code_1 varchar(64), code_2 varchar(64));'\n",
    "make_request(query)"
   ]
  },
  {
   "cell_type": "code",
   "execution_count": 4,
   "metadata": {},
   "outputs": [],
   "source": [
    "plpgsql_script = \"\"\"\n",
    "DO\n",
    "$$\n",
    "BEGIN\n",
    "FOR i IN 1..1000000 LOOP\n",
    "INSERT INTO Test(code_1,code_2) VALUES(md5(random()::text),\n",
    "md5(random()::text));\n",
    "END LOOP;\n",
    "END\n",
    "$$ language plpgsql;\n",
    "\"\"\"\n",
    "\n",
    "make_request(plpgsql_script)"
   ]
  },
  {
   "cell_type": "code",
   "execution_count": 14,
   "metadata": {},
   "outputs": [
    {
     "name": "stdout",
     "output_type": "stream",
     "text": [
      "Insert on test  (cost=0.00..0.04 rows=0 width=0) (actual time=0.044..0.045 rows=0 loops=1)\n",
      "  ->  Result  (cost=0.00..0.04 rows=1 width=296) (actual time=0.027..0.028 rows=1 loops=1)\n",
      "Planning Time: 0.021 ms\n",
      "Execution Time: 0.058 ms\n"
     ]
    }
   ],
   "source": [
    "\n",
    "query = 'explain analyze INSERT INTO test(code_1,code_2) VALUES(md5(random()::text), md5(random()::text));'\n",
    "make_request_and_fetch(query)\n"
   ]
  },
  {
   "cell_type": "code",
   "execution_count": 15,
   "metadata": {},
   "outputs": [
    {
     "name": "stdout",
     "output_type": "stream",
     "text": [
      "Gather Merge  (cost=73496.01..170725.10 rows=833334 width=70) (actual time=1443.844..2650.939 rows=1000004 loops=1)\n",
      "  Workers Planned: 2\n",
      "  Workers Launched: 2\n",
      "  ->  Sort  (cost=72495.98..73537.65 rows=416667 width=70) (actual time=1389.550..1844.729 rows=333335 loops=3)\n",
      "        Sort Key: code_1\n",
      "        Sort Method: external merge  Disk: 26520kB\n",
      "        Worker 0:  Sort Method: external merge  Disk: 25368kB\n",
      "        Worker 1:  Sort Method: external merge  Disk: 26504kB\n",
      "        ->  Parallel Seq Scan on test  (cost=0.00..16512.67 rows=416667 width=70) (actual time=0.007..15.997 rows=333335 loops=3)\n",
      "Planning Time: 0.657 ms\n",
      "Execution Time: 2673.737 ms\n"
     ]
    }
   ],
   "source": [
    "\n",
    "query = 'explain analyze select * from test order by code_1;'\n",
    "make_request_and_fetch(query)\n"
   ]
  },
  {
   "cell_type": "code",
   "execution_count": 16,
   "metadata": {},
   "outputs": [],
   "source": [
    "\n",
    "query = 'create index code1_index on test (code_1);'\n",
    "make_request(query)"
   ]
  },
  {
   "cell_type": "code",
   "execution_count": 17,
   "metadata": {},
   "outputs": [
    {
     "name": "stdout",
     "output_type": "stream",
     "text": [
      "Insert on test  (cost=0.00..0.04 rows=0 width=0) (actual time=1.191..1.191 rows=0 loops=1)\n",
      "  ->  Result  (cost=0.00..0.04 rows=1 width=296) (actual time=0.021..0.021 rows=1 loops=1)\n",
      "Planning Time: 0.020 ms\n",
      "Execution Time: 1.204 ms\n"
     ]
    }
   ],
   "source": [
    "\n",
    "\n",
    "query = 'explain analyze INSERT INTO test(code_1,code_2) VALUES(md5(random()::text), md5(random()::text));'\n",
    "make_request_and_fetch(query)"
   ]
  },
  {
   "cell_type": "code",
   "execution_count": 18,
   "metadata": {},
   "outputs": [
    {
     "name": "stdout",
     "output_type": "stream",
     "text": [
      "Index Scan using code1_index on test  (cost=0.42..93223.41 rows=1000004 width=70) (actual time=0.051..393.695 rows=1000005 loops=1)\n",
      "Planning Time: 0.752 ms\n",
      "Execution Time: 410.305 ms\n"
     ]
    }
   ],
   "source": [
    "\n",
    "query = 'explain analyze select * from test order by code_1;'\n",
    "make_request_and_fetch(query)"
   ]
  },
  {
   "cell_type": "code",
   "execution_count": 12,
   "metadata": {},
   "outputs": [],
   "source": [
    "\n",
    "query = 'drop index code1_index;'\n",
    "make_request(query)"
   ]
  },
  {
   "cell_type": "markdown",
   "metadata": {},
   "source": [
    "| До индексации              | После индексации          |\n",
    "|----------------------------|---------------------------|\n",
    "| **Вставка значения**       | **Вставка значения**      |\n",
    "| Planning Time: 0.021 ms    | Planning Time: 0.020 ms   |\n",
    "| Execution Time: 0.058 ms   | Execution Time: 1.204 ms  |\n",
    "| **Вывод значений**         | **Вывод значений**        |\n",
    "| Planning Time: 0.657 ms    | Planning Time: 0.752 ms   |\n",
    "| Execution Time: 2673.737 ms| Execution Time: 410.305 ms|\n"
   ]
  },
  {
   "cell_type": "markdown",
   "metadata": {},
   "source": [
    "## Задание 2"
   ]
  },
  {
   "cell_type": "code",
   "execution_count": 19,
   "metadata": {},
   "outputs": [
    {
     "name": "stdout",
     "output_type": "stream",
     "text": [
      "Gather Merge  (cost=20400.82..26293.36 rows=50504 width=70) (actual time=203.433..265.505 rows=62865 loops=1)\n",
      "  Workers Planned: 2\n",
      "  Workers Launched: 2\n",
      "  ->  Sort  (cost=19400.79..19463.92 rows=25252 width=70) (actual time=120.567..123.332 rows=20955 loops=3)\n",
      "        Sort Key: code_1\n",
      "        Sort Method: external merge  Disk: 2744kB\n",
      "        Worker 0:  Sort Method: quicksort  Memory: 1703kB\n",
      "        Worker 1:  Sort Method: quicksort  Memory: 1683kB\n",
      "        ->  Parallel Seq Scan on test  (cost=0.00..17554.35 rows=25252 width=70) (actual time=0.018..28.752 rows=20955 loops=3)\n",
      "              Filter: ((code_1)::text ~~ 'a%'::text)\n",
      "              Rows Removed by Filter: 312380\n",
      "Planning Time: 1.347 ms\n",
      "Execution Time: 267.912 ms\n"
     ]
    }
   ],
   "source": [
    "\n",
    "query = 'explain analyze select * from test where code_1 like \\'a%\\' order by code_1;'\n",
    "make_request_and_fetch(query)"
   ]
  },
  {
   "cell_type": "markdown",
   "metadata": {},
   "source": [
    "## Задание 3"
   ]
  },
  {
   "cell_type": "code",
   "execution_count": null,
   "metadata": {},
   "outputs": [],
   "source": [
    "\n",
    "query = 'create index students_id_index on student (student_id);'\n",
    "make_request(query)"
   ]
  },
  {
   "cell_type": "markdown",
   "metadata": {},
   "source": [
    "## Задание 4\n",
    "\n",
    "Аномалии, которые могут возникнуть при использовании уровня изоляции READ COMMITTED, включают:\n",
    "\n",
    "*Аномалия Non-Repeatable Read (Неповторяющееся чтение)*: Студент дважды считывает оценку и видит разные значения. Например, если преподаватель выставил оценку между двумя запросами студента, студент в запросах получит две разные оценки.\n",
    "\n",
    "*Фантомное чтение*: Студент делает выборку своих оценок, а в этот момент преподаватель выставляет оценку. Таким образом, если в рамках первой транзакции снова будет выполнен запрос\n",
    "на выборку, то результат будет отличаться от первого.\n",
    "\n",
    "*Аномалия сериализации*. В данном случае результат выполнения нескольких\n",
    "транзакций последовательно (при любом порядке их следования) не будет\n",
    "совпадать с параллельным их выполнением.\n"
   ]
  },
  {
   "cell_type": "markdown",
   "metadata": {},
   "source": [
    "Транзакция 1:\n",
    "\n",
    "Чтение оценки студента.\n",
    "Выставление новой оценки.\n",
    "Транзакция 2:\n",
    "\n",
    "Чтение оценки того же студента.\n",
    "Пусть Транзакция 1 сначала читает оценку студента и планирует выставить новую оценку, а Транзакция 2 читает оценку после Транзакции 1.\n",
    "\n",
    "Порядок операций:\n",
    "Транзакция 1: Чтение старой оценки.\n",
    "Транзакция 2: Чтение старой оценки.\n",
    "Транзакция 1: Выставление новой оценки.\n",
    "В этом сценарии, Транзакция 2 прочитает старую оценку, затем Транзакция 1 выставит новую оценку. Таким образом, результат, который получит Транзакция 2, будет отличаться от последовательного выполнения этих операций.\n"
   ]
  },
  {
   "cell_type": "markdown",
   "metadata": {},
   "source": [
    "## Задание 5"
   ]
  }
 ],
 "metadata": {
  "kernelspec": {
   "display_name": ".venv",
   "language": "python",
   "name": "python3"
  },
  "language_info": {
   "codemirror_mode": {
    "name": "ipython",
    "version": 3
   },
   "file_extension": ".py",
   "mimetype": "text/x-python",
   "name": "python",
   "nbconvert_exporter": "python",
   "pygments_lexer": "ipython3",
   "version": "3.11.4"
  }
 },
 "nbformat": 4,
 "nbformat_minor": 2
}
